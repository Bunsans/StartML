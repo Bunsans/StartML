{
 "cells": [
  {
   "cell_type": "code",
   "execution_count": 17,
   "id": "18855d59",
   "metadata": {},
   "outputs": [],
   "source": [
    "class Triangle:\n",
    "    n_dots = 3\n",
    "    def __init__(self, a, b, c):\n",
    "        if (a < b + c) and (b < a + c) and (c < a + b):\n",
    "            self.a = a\n",
    "            self.b = b\n",
    "            self.c = c\n",
    "            self.p = (a + b + c) / 2\n",
    "        else:\n",
    "            raise ValueError(\"triangle inequality does not hold\")\n",
    "    \n",
    "    def area(self):\n",
    "        p = self.p\n",
    "        a = self.a\n",
    "        b = self.b\n",
    "        c = self.c\n",
    "        return (p*(p - a)*(p - b)*(p - c))**0.5\n",
    "        \n",
    "    #def __str__(self):\n",
    "        #return f'({self.a}, {self.b}, {self.c})'\n",
    "\n",
    "tr_1 = Triangle(2,2,3)\n",
    "tr_2 = Triangle(3, 4, 6)\n",
    "\n",
    "square_1 = tr_1.area()\n",
    "square_2 = tr_2.area()"
   ]
  },
  {
   "cell_type": "code",
   "execution_count": 18,
   "id": "d5dbb6e9",
   "metadata": {},
   "outputs": [
    {
     "name": "stdout",
     "output_type": "stream",
     "text": [
      "(2, 2, 3) (3, 4, 6) 1.984313483298443 5.332682251925386\n"
     ]
    }
   ],
   "source": [
    "print(tr_1, tr_2, square_1, square_2)"
   ]
  },
  {
   "cell_type": "code",
   "execution_count": 19,
   "id": "3eff3358",
   "metadata": {},
   "outputs": [
    {
     "ename": "RuntimeError",
     "evalue": "super(): no arguments",
     "output_type": "error",
     "traceback": [
      "\u001b[0;31m---------------------------------------------------------------------------\u001b[0m",
      "\u001b[0;31mRuntimeError\u001b[0m                              Traceback (most recent call last)",
      "Cell \u001b[0;32mIn[19], line 1\u001b[0m\n\u001b[0;32m----> 1\u001b[0m \u001b[38;5;28;01mclass\u001b[39;00m \u001b[38;5;21;01mRectangle\u001b[39;00m(Triangle):\n\u001b[1;32m      2\u001b[0m     \u001b[38;5;28msuper\u001b[39m()\u001b[38;5;241m.\u001b[39mn_dots \u001b[38;5;241m=\u001b[39m \u001b[38;5;241m4\u001b[39m\n\u001b[1;32m      3\u001b[0m     \u001b[38;5;28;01mdef\u001b[39;00m \u001b[38;5;21m__init__\u001b[39m(\u001b[38;5;28mself\u001b[39m, a, b):\n",
      "Cell \u001b[0;32mIn[19], line 2\u001b[0m, in \u001b[0;36mRectangle\u001b[0;34m()\u001b[0m\n\u001b[1;32m      1\u001b[0m \u001b[38;5;28;01mclass\u001b[39;00m \u001b[38;5;21;01mRectangle\u001b[39;00m(Triangle):\n\u001b[0;32m----> 2\u001b[0m     \u001b[38;5;28;43msuper\u001b[39;49m\u001b[43m(\u001b[49m\u001b[43m)\u001b[49m\u001b[38;5;241m.\u001b[39mn_dots \u001b[38;5;241m=\u001b[39m \u001b[38;5;241m4\u001b[39m\n\u001b[1;32m      3\u001b[0m     \u001b[38;5;28;01mdef\u001b[39;00m \u001b[38;5;21m__init__\u001b[39m(\u001b[38;5;28mself\u001b[39m, a, b):\n\u001b[1;32m      4\u001b[0m         \u001b[38;5;28mself\u001b[39m\u001b[38;5;241m.\u001b[39ma \u001b[38;5;241m=\u001b[39m a\n",
      "\u001b[0;31mRuntimeError\u001b[0m: super(): no arguments"
     ]
    }
   ],
   "source": [
    "class Rectangle(Triangle):\n",
    "    super().n_dots = 4\n",
    "    def __init__(self, a, b):\n",
    "        self.a = a\n",
    "        self.b = b\n",
    "        \n",
    "    def area(self):\n",
    "        return self.a * self.b\n",
    "        "
   ]
  },
  {
   "cell_type": "code",
   "execution_count": 20,
   "id": "7769f45d",
   "metadata": {},
   "outputs": [],
   "source": [
    "class BaseFigure():\n",
    "    n_dots = None\n",
    "    \n",
    "    def __init__(self):\n",
    "        self.validate()\n",
    "        \n",
    "    def validate(self):\n",
    "        raise NotImplementedError()\n",
    "    def area(self):\n",
    "        raise NotImplementedError()"
   ]
  },
  {
   "cell_type": "code",
   "execution_count": null,
   "id": "cc0ca236",
   "metadata": {},
   "outputs": [],
   "source": [
    "class Rectangle(BaseFigure):\n",
    "    n_dots = 4\n",
    "    def __init__(self, a, b):\n",
    "        \n",
    "        self.a = a\n",
    "        self.b = b\n",
    "        super().__init__()\n",
    "    \n",
    "    def area(self):\n",
    "        return self.a * self.b\n",
    "    \n",
    "    def validate(self):\n",
    "        return self.a, self.b\n",
    "        \n",
    "    \n",
    "    \n",
    "class Triangle(BaseFigure):\n",
    "    n_dots = 3\n",
    "    def __init__(self, a, b, c):\n",
    "        self.a = a\n",
    "        self.b = b\n",
    "        self.c = c\n",
    "        self.p = (a + b + c) / 2\n",
    "        super().__init__()\n",
    "    \n",
    "    def area(self):\n",
    "        p = self.p\n",
    "        a = self.a\n",
    "        b = self.b\n",
    "        c = self.c\n",
    "        return (p*(p - a)*(p - b)*(p - c))**0.5\n",
    "        \n",
    "    def validate(self):\n",
    "        if ((self.a < self.b + self.c) and (self.b < self.a + self.c) and (self.c < self.a + self.b)):\n",
    "            return self.a, self.b, self.c\n",
    "        else:\n",
    "            raise ValueError(\"triangle inequality does not hold\")\n",
    "    \n",
    "    "
   ]
  },
  {
   "cell_type": "code",
   "execution_count": 21,
   "id": "672d0c88",
   "metadata": {},
   "outputs": [],
   "source": [
    "a = Triangle(1,2,2)"
   ]
  },
  {
   "cell_type": "code",
   "execution_count": 22,
   "id": "03bc5da0",
   "metadata": {},
   "outputs": [
    {
     "name": "stdout",
     "output_type": "stream",
     "text": [
      "(1, 2, 2)\n"
     ]
    }
   ],
   "source": [
    "print(a)"
   ]
  },
  {
   "cell_type": "code",
   "execution_count": 23,
   "id": "131c3d5a",
   "metadata": {},
   "outputs": [],
   "source": [
    "class Circle(BaseFigure):\n",
    "    n_dots = float('inf')\n",
    "    def __init__(self, r):\n",
    "        self.r = r\n",
    "        super().__init__()\n",
    "        \n",
    "    def area(self):\n",
    "        return 3.14 * (self.r ** 2)\n",
    "    def validate(self):\n",
    "        pass"
   ]
  },
  {
   "cell_type": "code",
   "execution_count": 24,
   "id": "8963b03b",
   "metadata": {},
   "outputs": [],
   "source": [
    "c = Circle(3)"
   ]
  },
  {
   "cell_type": "code",
   "execution_count": 25,
   "id": "afbd6294",
   "metadata": {},
   "outputs": [
    {
     "data": {
      "text/plain": [
       "28.26"
      ]
     },
     "execution_count": 25,
     "metadata": {},
     "output_type": "execute_result"
    }
   ],
   "source": [
    "c.area()"
   ]
  },
  {
   "cell_type": "code",
   "execution_count": 26,
   "id": "4f06da91",
   "metadata": {},
   "outputs": [
    {
     "data": {
      "text/plain": [
       "inf"
      ]
     },
     "execution_count": 26,
     "metadata": {},
     "output_type": "execute_result"
    }
   ],
   "source": [
    "c.n_dots\n"
   ]
  },
  {
   "cell_type": "code",
   "execution_count": 67,
   "id": "a905cbc9",
   "metadata": {},
   "outputs": [],
   "source": [
    "class Vector():\n",
    "    def __init__(self, coords):\n",
    "        self.coords = coords\n",
    "        self.dim = len(self.coords)\n",
    "    def __add__(self, other):\n",
    "        if self.dim == other.dim:\n",
    "            return Vector([self.coords[i] + other.coords[i] for i in range(self.dim)])\n",
    "        else:\n",
    "            raise ValueError(f\"left and right lengths differ: {self.dim} != {other.dim}\") \n",
    "    \n",
    "    def __mul__(self, other):\n",
    "        if isinstance(other, Vector):\n",
    "            if self.dim == other.dim:\n",
    "                res = 0\n",
    "                for i in range(self.dim):\n",
    "                    res += self.coords[i] * other.coords[i]\n",
    "                return res\n",
    "            else:\n",
    "                raise ValueError(f\"left and right lengths differ: {self.dim} != {other.dim}\") \n",
    "        else:\n",
    "            return Vector([self.coords[i] * other for i in range(self.dim)])\n",
    "        \n",
    "    def __eq__(self, other):\n",
    "          return self.coords == other.coords\n",
    "              \n",
    "    def __abs__(self):\n",
    "        return (self * self) ** 0.5\n",
    "\n",
    "    \n",
    "    def __str__(self):\n",
    "        res = \"[\"\n",
    "        for i in self.coords:\n",
    "            res += str(i) + ', '\n",
    "        res = res[:-2] + ']'\n",
    "        return res\n",
    "\n",
    "        \n",
    "\n"
   ]
  },
  {
   "cell_type": "code",
   "execution_count": 68,
   "id": "72b69a22",
   "metadata": {},
   "outputs": [
    {
     "name": "stdout",
     "output_type": "stream",
     "text": [
      "[16, 20]\n"
     ]
    }
   ],
   "source": [
    "# isinstance(object, class)\n",
    "v_1 = Vector([1,2,3])\n",
    "v_2 = Vector([1,2,3])\n",
    "v_3 = Vector([4,5])\n",
    "print(v_3 * 4)"
   ]
  },
  {
   "cell_type": "code",
   "execution_count": 69,
   "id": "49639ead",
   "metadata": {},
   "outputs": [
    {
     "data": {
      "text/plain": [
       "True"
      ]
     },
     "execution_count": 69,
     "metadata": {},
     "output_type": "execute_result"
    }
   ],
   "source": [
    "v_1 == v_2"
   ]
  },
  {
   "cell_type": "code",
   "execution_count": 70,
   "id": "5c444a37",
   "metadata": {},
   "outputs": [
    {
     "data": {
      "text/plain": [
       "3.7416573867739413"
      ]
     },
     "execution_count": 70,
     "metadata": {},
     "output_type": "execute_result"
    }
   ],
   "source": [
    "abs(v_2)"
   ]
  },
  {
   "cell_type": "code",
   "execution_count": 81,
   "id": "880464d4",
   "metadata": {},
   "outputs": [],
   "source": [
    "class ParsesCookies(): \n",
    "    def cookies(self):\n",
    "        return self.request['cookies']\n",
    "    def is_authed(self):\n",
    "        return 'auth_key' in self.cookies()\n",
    "\n",
    "class ParsesBody():\n",
    "    def body(self):\n",
    "        return self.request['body']\n",
    "        \n",
    "class ParsesHeaders():\n",
    "    def headers(self):\n",
    "        return self.request['headers']\n",
    "    def need_json(self):\n",
    "        return self.headers().get('content-type') == \"application/json\""
   ]
  },
  {
   "cell_type": "code",
   "execution_count": 82,
   "id": "35fd3fcb",
   "metadata": {},
   "outputs": [],
   "source": [
    "import json\n",
    "class JsonHandler(ParsesBody, ParsesHeaders):\n",
    "    def __init__(self, request):\n",
    "        self.request = request\n",
    "    def process(self):\n",
    "        if self.need_json() == False:\n",
    "            return None\n",
    "        else:\n",
    "            try:\n",
    "                return len((json.loads(self.body())).keys())\n",
    "            \n",
    "            except json.JSONDecodeError:\n",
    "                return None\n",
    "        \n",
    "                \n",
    "            \n",
    "            \n",
    "        \n",
    "    "
   ]
  },
  {
   "cell_type": "code",
   "execution_count": 86,
   "id": "5c420746",
   "metadata": {},
   "outputs": [],
   "source": [
    "class SecureTextHandler(ParsesBody, ParsesCookies):\n",
    "    def __init__(self, request):\n",
    "        self.request = request\n",
    "    def process(self):\n",
    "        if self.is_authed():\n",
    "            return len(self.body())\n",
    "        else:\n",
    "            return None"
   ]
  },
  {
   "cell_type": "code",
   "execution_count": 87,
   "id": "858d3fe5",
   "metadata": {},
   "outputs": [
    {
     "name": "stdout",
     "output_type": "stream",
     "text": [
      "5\n"
     ]
    }
   ],
   "source": [
    "# Примеры\n",
    "r = {'cookies': {'auth_key': '123'},\n",
    "     'body': 'hello'\n",
    "    }\n",
    "print(SecureTextHandler(r).process())\n",
    "# 5\n"
   ]
  },
  {
   "cell_type": "code",
   "execution_count": 88,
   "id": "8c36d1ea",
   "metadata": {},
   "outputs": [
    {
     "name": "stdout",
     "output_type": "stream",
     "text": [
      "None\n"
     ]
    }
   ],
   "source": [
    "\n",
    "r = {'cookies': {},\n",
    "     'body': 'hello'\n",
    "    }\n",
    "print(SecureTextHandler(r).process())\n",
    "# None"
   ]
  },
  {
   "cell_type": "code",
   "execution_count": null,
   "id": "83b971c9",
   "metadata": {},
   "outputs": [],
   "source": []
  }
 ],
 "metadata": {
  "kernelspec": {
   "display_name": "Python 3 (ipykernel)",
   "language": "python",
   "name": "python3"
  },
  "language_info": {
   "codemirror_mode": {
    "name": "ipython",
    "version": 3
   },
   "file_extension": ".py",
   "mimetype": "text/x-python",
   "name": "python",
   "nbconvert_exporter": "python",
   "pygments_lexer": "ipython3",
   "version": "3.10.9"
  }
 },
 "nbformat": 4,
 "nbformat_minor": 5
}
