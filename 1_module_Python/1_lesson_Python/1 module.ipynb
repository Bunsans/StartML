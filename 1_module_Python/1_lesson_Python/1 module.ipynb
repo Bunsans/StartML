{
 "cells": [
  {
   "cell_type": "code",
   "execution_count": 3,
   "id": "e2654521",
   "metadata": {},
   "outputs": [
    {
     "name": "stdout",
     "output_type": "stream",
     "text": [
      "###\n",
      "[3, 12, 15, 27]\n",
      "###\n",
      "###\n",
      "[3, 2, 0, 2]\n",
      "###\n",
      "###\n",
      "[4, 6, 5, 11]\n",
      "###\n"
     ]
    },
    {
     "data": {
      "text/plain": [
       "[4, 6, 5, 11]"
      ]
     },
     "execution_count": 3,
     "metadata": {},
     "output_type": "execute_result"
    }
   ],
   "source": [
    "# много другого кода, который тоже печатает\n",
    "# ...\n",
    "# Код коллеги\n",
    "test_data = [1, 4, 5, 9]\n",
    "\n",
    "def math_task(data):\n",
    "    answer = []\n",
    "    # возводим в третью степень\n",
    "    for elem in data:\n",
    "        answer += [elem * 3]\n",
    "    print(\"###\")\n",
    "    print(answer)\n",
    "    print(\"###\")\n",
    "    # берем остаток от деления на 7\n",
    "    for i in range(len(answer)):\n",
    "        answer[i] = answer[i] % 7\n",
    "    print(\"###\")\n",
    "    print(answer)\n",
    "    print(\"###\")\n",
    "    # прибавляем к остатку изначальный массив\n",
    "    for i in range(len(answer)):\n",
    "        answer[i] = answer[i] + data[i]\n",
    "    print(\"###\")\n",
    "    print(answer)\n",
    "    print(\"###\")\n",
    "    # возвращаем результат\n",
    "    return answer\n",
    "\n",
    "math_task(test_data)\n",
    "# print(math_task([1, 4, 5, 9])) # пример для самопроверки\n",
    "    "
   ]
  },
  {
   "cell_type": "code",
   "execution_count": 25,
   "id": "0ead7f3b",
   "metadata": {},
   "outputs": [
    {
     "data": {
      "text/plain": [
       "[3, 2, 1]"
      ]
     },
     "execution_count": 25,
     "metadata": {},
     "output_type": "execute_result"
    }
   ],
   "source": [
    "\n",
    "def reversed_(array):\n",
    "    rv = []\n",
    "    for i in range(len(array) - 1, -1, -1):\n",
    "        rv.append(array[i])\n",
    "    return rv\n",
    "reversed_([1,2,3])"
   ]
  },
  {
   "cell_type": "code",
   "execution_count": 23,
   "id": "79b7a2da",
   "metadata": {},
   "outputs": [
    {
     "name": "stdout",
     "output_type": "stream",
     "text": [
      "3\n",
      "2\n",
      "1\n"
     ]
    }
   ],
   "source": [
    "for i in range(3, 0, -1):\n",
    "    print(i)"
   ]
  },
  {
   "cell_type": "code",
   "execution_count": 9,
   "id": "d279b846",
   "metadata": {},
   "outputs": [
    {
     "name": "stdout",
     "output_type": "stream",
     "text": [
      "Все хорошо\n"
     ]
    }
   ],
   "source": [
    "if reversed_(reversed_([1, 2, 3])) == [1, 2, 3]:\n",
    "    print(\"Все хорошо\")\n",
    "else:\n",
    "     raise RuntimeError(\"Ошибка, после обращения дважды не получается исходный массив!\")"
   ]
  },
  {
   "cell_type": "code",
   "execution_count": 10,
   "id": "ce4a8df5",
   "metadata": {
    "scrolled": true
   },
   "outputs": [
    {
     "ename": "RuntimeError",
     "evalue": "Ошибка, после обращения дважды не получается исходный массив!",
     "output_type": "error",
     "traceback": [
      "\u001b[0;31m---------------------------------------------------------------------------\u001b[0m",
      "\u001b[0;31mRuntimeError\u001b[0m                              Traceback (most recent call last)",
      "Cell \u001b[0;32mIn[10], line 5\u001b[0m\n\u001b[1;32m      3\u001b[0m     \u001b[38;5;28mprint\u001b[39m(\u001b[38;5;124m\"\u001b[39m\u001b[38;5;124mВсе хорошо\u001b[39m\u001b[38;5;124m\"\u001b[39m)\n\u001b[1;32m      4\u001b[0m \u001b[38;5;28;01melse\u001b[39;00m:\n\u001b[0;32m----> 5\u001b[0m     \u001b[38;5;28;01mraise\u001b[39;00m \u001b[38;5;167;01mRuntimeError\u001b[39;00m(\u001b[38;5;124m\"\u001b[39m\u001b[38;5;124mОшибка, после обращения дважды не получается исходный массив!\u001b[39m\u001b[38;5;124m\"\u001b[39m)\n",
      "\u001b[0;31mRuntimeError\u001b[0m: Ошибка, после обращения дважды не получается исходный массив!"
     ]
    }
   ],
   "source": [
    "arr = [1, 2, 3]\n",
    "if reversed_(reversed_(arr)) == arr:\n",
    "    print(\"Все хорошо\")\n",
    "else:\n",
    "    raise RuntimeError(\"Ошибка, после обращения дважды не получается исходный массив!\")"
   ]
  },
  {
   "cell_type": "code",
   "execution_count": 14,
   "id": "832ed69d",
   "metadata": {},
   "outputs": [
    {
     "data": {
      "text/plain": [
       "False"
      ]
     },
     "execution_count": 14,
     "metadata": {},
     "output_type": "execute_result"
    }
   ],
   "source": [
    "arr = [1,2,3]\n",
    "reversed_(reversed_(arr)) == arr"
   ]
  },
  {
   "cell_type": "code",
   "execution_count": 42,
   "id": "2a735c22",
   "metadata": {},
   "outputs": [
    {
     "name": "stdout",
     "output_type": "stream",
     "text": [
      "24\n",
      "19\n",
      "14\n",
      "9\n",
      "4\n"
     ]
    },
    {
     "data": {
      "text/plain": [
       "['<', 'K', '/', 'C', '>']"
      ]
     },
     "execution_count": 42,
     "metadata": {},
     "output_type": "execute_result"
    }
   ],
   "source": [
    "def fifth_element(some_list):\n",
    "    res = []\n",
    "    for i in range(len(some_list) - 5, -1, -5):\n",
    "        print(i)\n",
    "        res.append(some_list[i])\n",
    "    return res\n",
    "\n",
    "fifth_element(['e',6,8,'A','>','^','S','$','R','C',6,'+','#',9,'/',1,'T','!','%','K',7,'-','O','*','<',2,'h',4,'g'])"
   ]
  },
  {
   "cell_type": "code",
   "execution_count": 39,
   "id": "ab7afeaf",
   "metadata": {},
   "outputs": [
    {
     "name": "stdout",
     "output_type": "stream",
     "text": [
      "7\n",
      "1\n"
     ]
    }
   ],
   "source": [
    "some_list = [1,2,3,5,6,7]\n",
    "for i in range(len(some_list) - 1, -1, -5):\n",
    "    print(some_list[i])"
   ]
  }
 ],
 "metadata": {
  "kernelspec": {
   "display_name": "Python 3 (ipykernel)",
   "language": "python",
   "name": "python3"
  },
  "language_info": {
   "codemirror_mode": {
    "name": "ipython",
    "version": 3
   },
   "file_extension": ".py",
   "mimetype": "text/x-python",
   "name": "python",
   "nbconvert_exporter": "python",
   "pygments_lexer": "ipython3",
   "version": "3.10.9"
  }
 },
 "nbformat": 4,
 "nbformat_minor": 5
}
